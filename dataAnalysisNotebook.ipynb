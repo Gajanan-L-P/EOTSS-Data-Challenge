{
 "cells": [
  {
   "cell_type": "markdown",
   "metadata": {},
   "source": [
    "# Data Analysis\n",
    "## Looking for Datasets\n",
    "I searched for the first dataset on data.gov, where I looked for interesting health data. The most interesting one was NCHC's [dataset](https://catalog.data.gov/dataset/age-adjusted-death-rates-for-the-top-10-leading-causes-of-death-united-states-2013) on leading causes of death. This dataset contains data on number deaths that the 10 deadliest diseases caused in each state from 1999 to 2015. It also contains the age-adjusted death rate, which is great for running analyses, since it accounts for the age of people living in each state and it is per 100,000 people.\n",
    "\n",
    "I had to find other dataset and combine the two to find something interesting. I thought it might be cool to find whether any disease is more prevalent in areas with lower level of education. After a bit of looking for data with Education Attainment, I found a good dataset on the Cencus Bureau's [American FactFinder](https://factfinder.census.gov/faces/nav/jsf/pages/searchresults.xhtml?refresh=t). I used the 2010 data since that one should be the most accurate. This dataset contains the maximum level of education completed by population that is 25 years or older. It also contains information about race and many other things that I did not need to use in this analysis.\n",
    "\n",
    "I used this notebook to keep track of my thoughts while trying to find something in the data."
   ]
  },
  {
   "cell_type": "code",
   "execution_count": 3,
   "metadata": {},
   "outputs": [],
   "source": [
    "import pandas as pd\n",
    "mortality = pd.read_csv('NCHS_-_Leading_Causes_of_Death__United_States.csv')\n",
    "education = pd.read_csv('ACS_10_5YR_S1501_with_ann.csv', skiprows=1) #first row is unnecessary"
   ]
  },
  {
   "cell_type": "code",
   "execution_count": null,
   "metadata": {},
   "outputs": [],
   "source": []
  }
 ],
 "metadata": {
  "kernelspec": {
   "display_name": "Python 3",
   "language": "python",
   "name": "python3"
  },
  "language_info": {
   "codemirror_mode": {
    "name": "ipython",
    "version": 3
   },
   "file_extension": ".py",
   "mimetype": "text/x-python",
   "name": "python",
   "nbconvert_exporter": "python",
   "pygments_lexer": "ipython3",
   "version": "3.6.4"
  }
 },
 "nbformat": 4,
 "nbformat_minor": 2
}
